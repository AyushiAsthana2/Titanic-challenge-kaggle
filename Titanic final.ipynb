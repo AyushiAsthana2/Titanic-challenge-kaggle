{
  "cells": [
    {
      "metadata": {
        "collapsed": true,
        "_cell_guid": "d8ec8663-0d17-462c-8c5c-0b86e60568e1",
        "_uuid": "3ea0b1db27805719ebc0f673701625cedf4f404d",
        "trusted": false
      },
      "cell_type": "code",
      "source": "import numpy as np\nimport pandas as pd\n",
      "execution_count": null,
      "outputs": []
    },
    {
      "metadata": {
        "_cell_guid": "090903a0-81a2-40af-bd1e-85bfe5bff491",
        "_uuid": "3753be64d2b4777c4d98a6c4710a2a03f9600afd",
        "trusted": false,
        "collapsed": true
      },
      "cell_type": "code",
      "source": "train=pd.read_csv('../input/train.csv')\ntest=pd.read_csv('../input/test.csv')\ncombine=[train,test]",
      "execution_count": null,
      "outputs": []
    },
    {
      "metadata": {
        "_cell_guid": "b9db6788-295d-4dd5-8b18-6dee5dd68068",
        "_uuid": "f98ff8bc4d08655cdf362723a1d282075327e3bf",
        "trusted": false,
        "collapsed": true
      },
      "cell_type": "code",
      "source": "print((train[\"Survived\"]==1))",
      "execution_count": null,
      "outputs": []
    },
    {
      "metadata": {
        "_cell_guid": "fac36d02-e0cc-4639-a277-79e455500e46",
        "_uuid": "dbab33dd4fb2dfb2646ee1eab393a9d2e848da4d",
        "trusted": false,
        "collapsed": true
      },
      "cell_type": "code",
      "source": "print(train.columns.values)",
      "execution_count": null,
      "outputs": []
    },
    {
      "metadata": {
        "_cell_guid": "3201fa65-fa0a-4d47-b0d4-f99a007e8ea6",
        "_uuid": "d5717aff7134aa0cb8c43ac5cff3cf0d35d8909f",
        "trusted": false,
        "collapsed": true
      },
      "cell_type": "code",
      "source": "train.head()",
      "execution_count": null,
      "outputs": []
    },
    {
      "metadata": {
        "_cell_guid": "2020ef42-9cd1-463f-b29b-7cf531a680f4",
        "_uuid": "f97ece4a80f2f4f614b1acde8a79462e30474ad9",
        "trusted": false,
        "collapsed": true
      },
      "cell_type": "code",
      "source": "train.tail()",
      "execution_count": null,
      "outputs": []
    },
    {
      "metadata": {
        "_cell_guid": "56dca26f-3e75-49e2-adba-d457b9dfc8da",
        "_uuid": "9ffe6f34aec639d427ab38318bb64c22a04f8c40",
        "trusted": false,
        "collapsed": true
      },
      "cell_type": "code",
      "source": "train.describe()",
      "execution_count": null,
      "outputs": []
    },
    {
      "metadata": {
        "_cell_guid": "d29083e0-c171-4d94-9e01-8b0d77164c7a",
        "_uuid": "c2b33e697c0384b4af5ec42e5a61b7d8dbf357dd",
        "trusted": false,
        "collapsed": true
      },
      "cell_type": "code",
      "source": "train.info()",
      "execution_count": null,
      "outputs": []
    },
    {
      "metadata": {
        "_cell_guid": "b1a3fd32-5812-4dd8-af66-77387e8ea1ff",
        "_uuid": "aa1c1d7818906bdd39ca5f7e9f2a4d7cd77e6648",
        "trusted": false,
        "collapsed": true
      },
      "cell_type": "code",
      "source": "#To see how many people survived\ntrain[\"Survived\"].value_counts()\n",
      "execution_count": null,
      "outputs": []
    },
    {
      "metadata": {
        "_cell_guid": "18ee8277-d9c0-49e4-8f55-585e1303e5b6",
        "_uuid": "7c5152e56081290242c8d19efc19bcc9b43e3b12",
        "trusted": false,
        "collapsed": true
      },
      "cell_type": "code",
      "source": "#percentages\ntrain[\"Survived\"].value_counts(normalize=True)",
      "execution_count": null,
      "outputs": []
    },
    {
      "metadata": {
        "_cell_guid": "d0b06f95-58c8-4b38-ac2f-bca18be05b70",
        "_uuid": "7066f502bd984d5adfe9191641911df075088462",
        "trusted": false,
        "collapsed": true
      },
      "cell_type": "code",
      "source": "#To see the relation with sex\n#No of males that survived \ntrain[\"Survived\"][train[\"Sex\"]=='male'].value_counts()",
      "execution_count": null,
      "outputs": []
    },
    {
      "metadata": {
        "_cell_guid": "f5f61276-68bc-4049-9bd3-152607df266b",
        "_uuid": "e9af9ac1d2ae308001ba9df9efebbdd21e7088a8",
        "trusted": false,
        "collapsed": true
      },
      "cell_type": "code",
      "source": "train[\"Survived\"][train[\"Sex\"]=='female'].value_counts()",
      "execution_count": null,
      "outputs": []
    },
    {
      "metadata": {
        "_cell_guid": "f6fbf1b2-f45e-4a1a-8ee6-b527ca0c5f2f",
        "_uuid": "1e3643fb4bd8f71ef12886b0f3bd0febabca4872",
        "trusted": false,
        "collapsed": true
      },
      "cell_type": "code",
      "source": "# Does age play a role\n#Male who survived whose age were lesser than 50 yrs\ntrain[\"Survived\"][train[\"Age\"]<50][train[\"Sex\"]=='male'].value_counts()\n\n",
      "execution_count": null,
      "outputs": []
    },
    {
      "metadata": {
        "_cell_guid": "f11fc425-6f62-4f07-8faf-0cae84ee0099",
        "_uuid": "383c37852e06d360705b654c7dbe8cc4b3288640",
        "trusted": false,
        "collapsed": true
      },
      "cell_type": "code",
      "source": "#Creating a decision tree\nprint(train)",
      "execution_count": null,
      "outputs": []
    },
    {
      "metadata": {
        "collapsed": true,
        "_cell_guid": "34919bd5-c4c4-42c1-b380-9277d4c3b01e",
        "_uuid": "c4f29112242b63f342fde73e03a92fc332ec75d0",
        "trusted": false
      },
      "cell_type": "code",
      "source": "test_one=test\n#test_one[\"Survived\"]=0\n",
      "execution_count": null,
      "outputs": []
    },
    {
      "metadata": {
        "_cell_guid": "e2ddecf8-72c9-4606-b4d6-ab96259c7d0d",
        "_uuid": "f2357fd4c6198f52b1192b792f6d84af31cdfba3"
      },
      "cell_type": "markdown",
      "source": "**Preprocessing the data**"
    },
    {
      "metadata": {
        "collapsed": true,
        "_cell_guid": "e591ea88-8a25-4be3-9aff-2c27bb58b6a6",
        "_uuid": "2a74dd11efaaf62a7b3de4ab3a50105c79875b54",
        "trusted": false
      },
      "cell_type": "code",
      "source": "train = train.drop(['Ticket', 'Cabin'], axis=1)\ntest = test.drop(['Ticket', 'Cabin'], axis=1)\ncombine = [train, test]",
      "execution_count": null,
      "outputs": []
    },
    {
      "metadata": {
        "_cell_guid": "61575495-e29a-4f56-af66-84d9436bd5db",
        "_uuid": "bf4081034e43fc4acbfa22ab6b3ac23c7ff33f0c",
        "trusted": false,
        "collapsed": true
      },
      "cell_type": "code",
      "source": "train = train.drop(['Name', 'PassengerId'], axis=1)\ntest = test.drop(['Name'], axis=1)\ncombine = [train, test]\ntrain.shape, test.shape",
      "execution_count": null,
      "outputs": []
    },
    {
      "metadata": {
        "collapsed": true,
        "_cell_guid": "4b79afbd-bd4c-4b63-985a-23b9c91721ec",
        "_uuid": "fd7be9d2f54b06ce3e181a76d4f46b7fdc63155f",
        "trusted": false
      },
      "cell_type": "code",
      "source": "#Cleaning and formatting the data\n\ntrain[\"Age\"]=train[\"Age\"].fillna(train[\"Age\"].median())\n",
      "execution_count": null,
      "outputs": []
    },
    {
      "metadata": {
        "_cell_guid": "b47afef7-a276-4cc1-ad78-66de8587fc76",
        "_uuid": "63360777a8abaf9c57d540820a1d3c520a859e21",
        "trusted": false,
        "collapsed": true
      },
      "cell_type": "code",
      "source": "print(train)",
      "execution_count": null,
      "outputs": []
    },
    {
      "metadata": {
        "_cell_guid": "8ec0a41a-b358-487d-b56a-dcca9a03ed00",
        "_uuid": "cddc7fa02a64c0452cd2d92f964608fb5d431829",
        "trusted": false,
        "collapsed": true
      },
      "cell_type": "code",
      "source": "#Sex and embarked do not contain numerical values\n#male->0\n# female->1\n\n\n\n# Convert the male and female groups to integer form\ntrain[\"Sex\"][train[\"Sex\"] == \"male\"] = 0\ntrain[\"Sex\"][train[\"Sex\"]==\"female\"]=1\n\n# Impute the Embarked variable\ntrain[\"Embarked\"] = train[\"Embarked\"].fillna(\"S\")\n\n# Convert the Embarked classes to integer form\ntrain[\"Embarked\"][train[\"Embarked\"] == \"S\"] = 0\ntrain[\"Embarked\"][train[\"Embarked\"] == \"C\"] = 1\ntrain[\"Embarked\"][train[\"Embarked\"] == \"Q\"] = 2\n\n#Print the Sex and Embarked columns\nprint(train[\"Sex\"])\nprint(train[\"Embarked\"])\n",
      "execution_count": null,
      "outputs": []
    },
    {
      "metadata": {
        "_cell_guid": "a8aeb73d-7904-4fbc-b2f9-2b018978fa8e",
        "_uuid": "879d13d1826403b118535523e14ebe02d104dda0",
        "trusted": false,
        "collapsed": true
      },
      "cell_type": "code",
      "source": "print(train)",
      "execution_count": null,
      "outputs": []
    },
    {
      "metadata": {
        "_cell_guid": "2c72603f-36c3-4def-b4f5-48cbcf525f76",
        "_uuid": "285f693eabf050a36bc93f967eec2f8e44000464",
        "trusted": false,
        "collapsed": true
      },
      "cell_type": "code",
      "source": "\n#train[\"Age\"]=train[\"Age\"].fillna(train[\"Age\"].median())\n#print(train[\"Age\"])\n\ntest.Fare[152]=test.Fare.median()\nfrom sklearn import tree\ntarget=train[\"Survived\"].values\nfeatures_one = train[[\"Pclass\", \"Sex\", \"Age\", \"Fare\"]].values\nclf=tree.DecisionTreeClassifier()\nclf=clf.fit(features_one,target)\nprint(clf.feature_importances_)\nprint(clf.score(features_one, target))\n",
      "execution_count": null,
      "outputs": []
    },
    {
      "metadata": {
        "collapsed": true,
        "_cell_guid": "c67d2b4d-5cf6-4ea4-a327-d32af28bb907",
        "_uuid": "7478f7f9b24a76516da6210f3d9d744e2bdbb3d2",
        "trusted": false
      },
      "cell_type": "code",
      "source": "# Fare is the most important featue in prediction",
      "execution_count": null,
      "outputs": []
    },
    {
      "metadata": {
        "_cell_guid": "a5cac0af-3cd8-4694-9d5c-821e5092a503",
        "_uuid": "23ea741065c3a3388df13eb167c182a221f157d0",
        "trusted": false,
        "collapsed": true
      },
      "cell_type": "code",
      "source": "#Preprocessing of test data\ntest.Fare[152]=test.Fare.median()\ntest[\"Age\"]=test[\"Age\"].fillna(test[\"Age\"].median())\ntest[\"Sex\"][test[\"Sex\"] == \"male\"] = 0\ntest[\"Sex\"][test[\"Sex\"]==\"female\"]=1\ntest[\"Embarked\"][test[\"Embarked\"] == \"S\"] = 0\ntest[\"Embarked\"][test[\"Embarked\"] == \"C\"] = 1\ntest[\"Embarked\"][test[\"Embarked\"] == \"Q\"] = 2\n\n\n\n",
      "execution_count": null,
      "outputs": []
    },
    {
      "metadata": {
        "collapsed": true,
        "_cell_guid": "fa4ffd4f-931c-435d-99b1-a7481d3d32c9",
        "_uuid": "a52681203e4d0344279ca8db65c06a37b09cd655",
        "trusted": false
      },
      "cell_type": "code",
      "source": "print(test)",
      "execution_count": null,
      "outputs": []
    },
    {
      "metadata": {
        "_cell_guid": "82c26eef-a0cd-4114-8ee6-552fa01499a6",
        "_uuid": "d80ffe24233d447dfa9fc86ce26e8fe33f3d2480",
        "trusted": false,
        "collapsed": true
      },
      "cell_type": "code",
      "source": "\ntest_features=test[[\"Pclass\", \"Sex\", \"Age\", \"Fare\"]].values\nmy_prediction=clf.predict(test_features)\nPassengerId =np.array(test[\"PassengerId\"]).astype(int)\nmy_solution = pd.DataFrame(my_prediction, PassengerId, columns = [\"Survived\"])\nprint(my_solution)\nprint(my_solution.shape)\nmy_solution.to_csv(\"C:\\\\Users\\\\Ayushi Asthana\\\\Documents\\\\Machine learning\\\\Titanic\\\\gender_submission.csv\", index_label = [\"PassengerId\"])\n",
      "execution_count": null,
      "outputs": []
    },
    {
      "metadata": {
        "collapsed": true,
        "_cell_guid": "94a2c0cd-ea1c-494f-a779-ee0572208335",
        "_uuid": "815afc9ca8f25a389e3c9eeea316af84289b0711",
        "trusted": false
      },
      "cell_type": "code",
      "source": "train[\"Fare\"]=train[\"Fare\"].fillna(train[\"Fare\"].median())",
      "execution_count": null,
      "outputs": []
    },
    {
      "metadata": {
        "_cell_guid": "4961383c-235c-464e-a673-1e5733875946",
        "_uuid": "501c952dda4eaab81bc2b1c5f691a401cc8a9239",
        "trusted": false,
        "collapsed": true
      },
      "cell_type": "code",
      "source": "print(train)",
      "execution_count": null,
      "outputs": []
    },
    {
      "metadata": {
        "collapsed": true,
        "_cell_guid": "1ec2abab-05b6-4d7f-8e2d-a869ca47bf67",
        "_uuid": "6c5c2cb3f196b6d14fa81bafec409cc9404a502e",
        "trusted": false
      },
      "cell_type": "code",
      "source": "",
      "execution_count": null,
      "outputs": []
    },
    {
      "metadata": {
        "collapsed": true,
        "_cell_guid": "895dd7e5-ecd0-49f0-bb68-675dd9901b1f",
        "_uuid": "f1d39c97989e8adb8e57e642f3d0ff3409318724",
        "trusted": false
      },
      "cell_type": "code",
      "source": "# To avoid Overfitting\n# Create a new array with the added features: features_two\ntrain[\"Age\"]=train[\"Age\"].fillna(train[\"Age\"].median())\nfeatures_two = train[[\"Pclass\",\"Age\",\"Sex\",\"Fare\", \"SibSp\", \"Parch\",\"Embarked\"]].values\nprint(features_two)\n\n\n#Control overfitting by setting \"max_depth\" to 10 and \"min_samples_split\" to 5 : my_tree_two\nmax_depth =10 \nmin_samples_split =5\nmy_tree_two = tree.DecisionTreeClassifier(max_depth = 10, min_samples_split = 5, random_state = 1)\n\nmy_tree_two = my_tree_two.fit(features_two,target)\n\n#Print the score of the new decison tree\nprint(my_tree_two.feature_importances_)\nprint(my_tree_two.score(features_two, target))\n\ntest_features=test[[\"Pclass\", \"Sex\", \"Age\", \"Fare\"]].values\nmy_prediction=clf.predict(test_features)\nPassengerId =np.array(test[\"PassengerId\"]).astype(int)\nmy_solution = pd.DataFrame(my_prediction, PassengerId, columns = [\"Survived\"])\nprint(my_solution)\nprint(my_solution.shape)\n\n\n",
      "execution_count": null,
      "outputs": []
    },
    {
      "metadata": {
        "collapsed": true,
        "_cell_guid": "6b8ac616-f734-4e4b-a1b9-3da57419a03d",
        "_uuid": "0d105ea509d50abaad7b97108a84c7e1bbaa2712",
        "trusted": false
      },
      "cell_type": "code",
      "source": "print(test)",
      "execution_count": null,
      "outputs": []
    },
    {
      "metadata": {
        "collapsed": true,
        "_cell_guid": "4fe8c87a-07a5-461e-9940-c5589a1edf5c",
        "_uuid": "52fc901ee7eac1ace760d0f38b584e6b6619b1ca",
        "trusted": false
      },
      "cell_type": "code",
      "source": "# Create train_two with the newly defined feature\ntrain_two = train.copy()\ntrain_two[\"family_size\"] = train_two[\"SibSp\"]+train_two[\"Parch\"]+1\n\n# Create a new feature set and add the new feature\nfeatures_three = train_two[[\"Pclass\", \"Sex\", \"Age\", \"Fare\", \"SibSp\", \"Parch\",\"family_size\"]].values\n\n# Define the tree classifier, then fit the model\nmy_tree_three = tree.DecisionTreeClassifier()\nmy_tree_three = my_tree_three.fit(features_three,target)\n\n# Print the score of this decision tree\nprint(my_tree_three.score(features_three, target))\nmy_solution.to_csv(\"C:\\\\Users\\\\Ayushi Asthana\\\\Documents\\\\Machine learning\\\\Titanic\\\\gender_submission2.csv\", index_label = [\"PassengerId\"])\n",
      "execution_count": null,
      "outputs": []
    },
    {
      "metadata": {
        "collapsed": true,
        "_cell_guid": "3c1ff4c7-c9c4-4bbd-8863-63545fd00cf9",
        "_uuid": "17f5ac0e278cfda3295ecde81c7bb1ee7ecea4f0",
        "trusted": false
      },
      "cell_type": "code",
      "source": "# Using Random Forest\nfrom sklearn.ensemble import RandomForestClassifier\nfeatures_forest = train[[\"Pclass\", \"Age\", \"Sex\", \"Fare\", \"SibSp\", \"Parch\", \"Embarked\"]].values\n# Import the `RandomForestClassifier`\nfrom sklearn.ensemble import RandomForestClassifier\n\n# We want the Pclass, Age, Sex, Fare,SibSp, Parch, and Embarked variables\nfeatures_forest = train[[\"Pclass\", \"Age\", \"Sex\", \"Fare\", \"SibSp\", \"Parch\", \"Embarked\"]].values\n\n# Building and fitting my_forest\nforest = RandomForestClassifier(max_depth = 10, min_samples_split=2, n_estimators = 100, random_state = 1)\nmy_forest = forest.fit(features_forest,target)\n\n# Print the score of the fitted random forest\nprint(my_forest.score(features_forest, target))\n\n# Compute predictions on our test set features then print the length of the prediction vector\ntest_features = test[[\"Pclass\", \"Age\", \"Sex\", \"Fare\", \"SibSp\", \"Parch\", \"Embarked\"]].values\npred_forest = my_forest.predict(test_features)\nprint(len(pred_forest))\nsubmission = pd.DataFrame({\n        \"PassengerId\": test[\"PassengerId\"],\n        \"Survived\": pred_forest\n    })\nsubmission.to_csv('gender_submissionrandom.csv', index=False)\n\n",
      "execution_count": null,
      "outputs": []
    },
    {
      "metadata": {
        "collapsed": true,
        "_cell_guid": "0682f2d2-5608-412c-afce-e14bdd7e529d",
        "_uuid": "ccd150761d2da3746481d4c0fd323d0be63206c2",
        "trusted": false
      },
      "cell_type": "code",
      "source": "#Request and print the `.feature_importances_` attribute\nprint(my_tree_two.feature_importances_)\nprint(my_forest.feature_importances_)\n\n\n#Compute and print the mean accuracy score for both models\nprint(my_tree_two.score(features_two, target))\nprint(my_forest.score(features_forest,target))",
      "execution_count": null,
      "outputs": []
    },
    {
      "metadata": {
        "collapsed": true,
        "_cell_guid": "dd8d38ed-a6d8-4752-be42-52074ba285ae",
        "_uuid": "aa82cb7e9e5f4c508faaab1809bedde2111deac2",
        "trusted": false
      },
      "cell_type": "code",
      "source": "import seaborn as sns\nimport matplotlib.pyplot as plt\n%matplotlib inline",
      "execution_count": null,
      "outputs": []
    },
    {
      "metadata": {
        "collapsed": true,
        "_cell_guid": "a9a912bd-c326-4f16-8096-ce58b325ff46",
        "_uuid": "bf7ff13450f7caefe0c45f46df070088216e75a3",
        "trusted": false
      },
      "cell_type": "code",
      "source": "g = sns.FacetGrid(train, col='Survived')\ng.map(plt.hist, 'Age', bins=20)",
      "execution_count": null,
      "outputs": []
    },
    {
      "metadata": {
        "collapsed": true,
        "_cell_guid": "69f1947a-d6ed-4ddb-8bf4-0f85e9a6cc12",
        "_uuid": "a4e4430b28652badbf009f826958d9b4f79660fa",
        "trusted": false
      },
      "cell_type": "code",
      "source": "import xgboost as xgb\nfrom xgboost import XGBClassifier",
      "execution_count": null,
      "outputs": []
    },
    {
      "metadata": {
        "collapsed": true,
        "_cell_guid": "a70771ae-3291-4ebe-bb0c-8ff7107506d9",
        "_uuid": "0b3460b1716aac64d47468dd63bf76ce9a3acea7",
        "trusted": false
      },
      "cell_type": "code",
      "source": "gbm=xgb.XGBClassifier(max_depth=3,n_estimators=300,learning_rate=1).fit(features_two,target)",
      "execution_count": null,
      "outputs": []
    },
    {
      "metadata": {
        "collapsed": true,
        "_cell_guid": "feb422e1-3c0a-4232-89da-440d730859fe",
        "_uuid": "1e28f651db564661c1224711d8f470794d2aeaac",
        "trusted": false
      },
      "cell_type": "code",
      "source": "predictions=gbm.predict(test_features)\nsubmission = pd.DataFrame({ 'PassengerId': test['PassengerId'],\n                            'Survived': predictions })\nsubmission.to_csv(\"submissionxgboost2.csv\", index=False)\n",
      "execution_count": null,
      "outputs": []
    },
    {
      "metadata": {
        "collapsed": true,
        "_cell_guid": "ace43084-0f73-4222-b8cd-79f2adc5a5e8",
        "_uuid": "5fb1b00cae8d59cf9a0707f84a398de1e515516f",
        "trusted": false
      },
      "cell_type": "code",
      "source": "print(gbm.score(features_two,target))",
      "execution_count": null,
      "outputs": []
    },
    {
      "metadata": {
        "collapsed": true,
        "_cell_guid": "11f19c24-7889-44a9-bef9-0bcab73b2923",
        "_uuid": "5c94f7f8a3476ff575adc865bb0e584b75b7d07e",
        "trusted": false
      },
      "cell_type": "code",
      "source": "",
      "execution_count": null,
      "outputs": []
    },
    {
      "metadata": {
        "collapsed": true,
        "_cell_guid": "088dfc4b-c2f4-47a6-a271-4232a242b057",
        "_uuid": "440b1aa85d90a52a9673137468d9346c774ff2e0",
        "trusted": false
      },
      "cell_type": "code",
      "source": "",
      "execution_count": null,
      "outputs": []
    },
    {
      "metadata": {
        "collapsed": true,
        "_cell_guid": "e72acc89-2fbf-4842-8cd9-0765e0ab100e",
        "_uuid": "dcf4330420b2834d2c64728cbc7310d96f9df5d7",
        "trusted": false
      },
      "cell_type": "code",
      "source": "",
      "execution_count": null,
      "outputs": []
    }
  ],
  "metadata": {
    "kernelspec": {
      "display_name": "Python 3",
      "language": "python",
      "name": "python3"
    },
    "language_info": {
      "name": "python",
      "version": "3.6.5",
      "mimetype": "text/x-python",
      "codemirror_mode": {
        "name": "ipython",
        "version": 3
      },
      "pygments_lexer": "ipython3",
      "nbconvert_exporter": "python",
      "file_extension": ".py"
    }
  },
  "nbformat": 4,
  "nbformat_minor": 1
}